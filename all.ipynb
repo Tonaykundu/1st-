{
  "nbformat": 4,
  "nbformat_minor": 0,
  "metadata": {
    "colab": {
      "provenance": [],
      "authorship_tag": "ABX9TyMd126fydKAtam1nR78E0jG",
      "include_colab_link": true
    },
    "kernelspec": {
      "name": "python3",
      "display_name": "Python 3"
    },
    "language_info": {
      "name": "python"
    }
  },
  "cells": [
    {
      "cell_type": "markdown",
      "metadata": {
        "id": "view-in-github",
        "colab_type": "text"
      },
      "source": [
        "<a href=\"https://colab.research.google.com/github/Tonaykundu/1st-/blob/main/all.ipynb\" target=\"_parent\"><img src=\"https://colab.research.google.com/assets/colab-badge.svg\" alt=\"Open In Colab\"/></a>"
      ]
    },
    {
      "cell_type": "code",
      "execution_count": 8,
      "metadata": {
        "colab": {
          "base_uri": "https://localhost:8080/"
        },
        "id": "uZaR-oOPIiYX",
        "outputId": "2b0244cc-d6df-43ba-9fb5-799c023608cb"
      },
      "outputs": [
        {
          "output_type": "stream",
          "name": "stdout",
          "text": [
            "A\n",
            "B\n",
            "C\n",
            "D\n",
            "E\n",
            "F\n",
            "G\n",
            "H\n",
            "I\n",
            "J\n",
            "K\n",
            "L\n",
            "M\n"
          ]
        }
      ],
      "source": [
        "tree = {\n",
        "    'A': ['B', 'C', 'D'],\n",
        "    'B': ['E'],\n",
        "    'C': ['F'],\n",
        "    'D': ['G'],\n",
        "    'E': ['H', 'I'],\n",
        "    'F': ['J'],\n",
        "    'G': ['K'],\n",
        "    'H': ['L'],\n",
        "    'I': ['M'],\n",
        "    'J': [],\n",
        "    'K': [],\n",
        "    'L': [],\n",
        "    'M': []\n",
        "}\n",
        "\n",
        "queue=['A']\n",
        "visited =['A']\n",
        "\n",
        "while queue:\n",
        "    res = queue.pop(0)\n",
        "    print(res)\n",
        "    for i in tree[res]:\n",
        "        if i not in visited:\n",
        "            queue.append(i)\n",
        "            visited.append(i)\n",
        "            # bfs"
      ]
    },
    {
      "cell_type": "code",
      "source": [
        "\n",
        "#dfs\n",
        "\n",
        "tree = {\n",
        "    'A': ['B', 'C', 'D'],\n",
        "    'B': ['E'],\n",
        "    'C': ['F'],\n",
        "    'D': ['G'],\n",
        "    'E': ['H', 'I'],\n",
        "    'F': ['J'],\n",
        "    'G': ['K'],\n",
        "    'H': ['L'],\n",
        "    'I': ['M'],\n",
        "    'J': [],\n",
        "    'K': [],\n",
        "    'L': [],\n",
        "    'M': []\n",
        "}\n",
        "stack = ['A']\n",
        "visited = ['A']\n",
        "\n",
        "while stack:\n",
        "    res = stack.pop()\n",
        "    print(res)\n",
        "    for i in tree[res]:\n",
        "        if i not in visited:\n",
        "            stack.append(i)\n",
        "            visited.append(i)"
      ],
      "metadata": {
        "colab": {
          "base_uri": "https://localhost:8080/"
        },
        "id": "ux2Q1EHYLi6W",
        "outputId": "3331b098-e7cf-4c29-e935-3fb112a740ff"
      },
      "execution_count": 3,
      "outputs": [
        {
          "output_type": "stream",
          "name": "stdout",
          "text": [
            "A\n",
            "D\n",
            "G\n",
            "K\n",
            "C\n",
            "F\n",
            "J\n",
            "B\n",
            "E\n",
            "I\n",
            "M\n",
            "H\n",
            "L\n"
          ]
        }
      ]
    },
    {
      "cell_type": "code",
      "source": [
        "#ids\n",
        "\n",
        "tree = {\n",
        "    \"A\": ['B', 'C'],\n",
        "    \"B\": ['D', 'E'],\n",
        "    \"C\": ['F', 'G'],\n",
        "    \"D\": [],\n",
        "    \"E\": [],\n",
        "    \"F\": [],\n",
        "    \"G\": [],\n",
        "}\n",
        "\n",
        "goal = 'G'\n",
        "max_depth = 0\n",
        "\n",
        "while True:\n",
        "    visited = []\n",
        "    stack = [('A', 0)]\n",
        "\n",
        "    flag = 0\n",
        "    while stack:\n",
        "        node, depth = stack.pop()\n",
        "\n",
        "        if node not in visited:\n",
        "            visited.append(node)\n",
        "            print(node)\n",
        "\n",
        "            if node == goal:\n",
        "                print('Goal Found')\n",
        "                flag = 1\n",
        "                break\n",
        "\n",
        "            if depth < max_depth:\n",
        "                for neighbor in tree[node]:\n",
        "                    stack.append((neighbor, depth + 1))\n",
        "\n",
        "    if flag == 1:\n",
        "        break\n",
        "\n",
        "    max_depth += 1\n",
        "    if 'G' not in visited and max_depth > len(tree):\n",
        "        print(\"Goal Not Found\")\n",
        "        break"
      ],
      "metadata": {
        "colab": {
          "base_uri": "https://localhost:8080/"
        },
        "id": "d1RJzMmnLi2U",
        "outputId": "74c2e707-9680-4acf-a931-07d371f16970"
      },
      "execution_count": 4,
      "outputs": [
        {
          "output_type": "stream",
          "name": "stdout",
          "text": [
            "A\n",
            "A\n",
            "C\n",
            "B\n",
            "A\n",
            "C\n",
            "G\n",
            "Goal Found\n"
          ]
        }
      ]
    },
    {
      "cell_type": "code",
      "source": [
        "#Dls\n",
        "\n",
        "tree = {\n",
        "    \"A\": ['B', 'C'],\n",
        "    \"B\": ['D', 'E'],\n",
        "    \"C\": ['F', 'G'],\n",
        "    \"D\": [],\n",
        "    \"E\": [],\n",
        "    \"F\": [],\n",
        "    \"G\": [],\n",
        "}\n",
        "\n",
        "goal = 'B'\n",
        "max_depth = 0\n",
        "flag = 1\n",
        "stack = [('A', 0)]\n",
        "visited = ['A']\n",
        "\n",
        "while stack:\n",
        "    node, depth = stack.pop()\n",
        "    print(node)\n",
        "    if node == goal:\n",
        "        print('Goal Found')\n",
        "        flag = 0\n",
        "        break\n",
        "\n",
        "    for i in tree[node]:\n",
        "        if i not in visited:\n",
        "          if depth < max_depth:\n",
        "            stack.append((i, depth + 1))\n",
        "            visited.append(node)\n",
        "        if flag == 1:\n",
        "          max_depth+=1"
      ],
      "metadata": {
        "id": "q-e58g5VLi0I"
      },
      "execution_count": null,
      "outputs": []
    },
    {
      "cell_type": "code",
      "source": [],
      "metadata": {
        "id": "MPcECFglLixu"
      },
      "execution_count": null,
      "outputs": []
    }
  ]
}